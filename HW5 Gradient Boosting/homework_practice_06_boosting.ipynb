{
  "cells": [
    {
      "cell_type": "markdown",
      "metadata": {
        "pycharm": {
          "name": "#%% md\n"
        },
        "id": "smaWhp1cPedU"
      },
      "source": [
        "# Машинное обучение, ФКН ВШЭ\n",
        "\n",
        "# Практическое задание 6. Бустинговое\n",
        "\n",
        "## Общая информация\n",
        "\n",
        "Дата выдачи: 12.12.2023\n",
        "\n",
        "Мягкий дедлайн: 24.12.2023 23:59 MSK\n",
        "\n",
        "Жёсткий дедлайн: 24.12.2023 23:59 MSK\n",
        "\n",
        "## Оценивание и штрафы\n",
        "\n",
        "Каждая из задач имеет определенную «стоимость» (указана в скобках около задачи). Максимально допустимая оценка за работу — 10 баллов.\n",
        "\n",
        "Сдавать задание после указанного срока сдачи нельзя. При выставлении неполного балла за задание в связи с наличием ошибок на усмотрение проверяющего предусмотрена возможность исправить работу на указанных в ответном письме условиях.\n",
        "\n",
        "Задание выполняется самостоятельно. «Похожие» решения считаются плагиатом и все задействованные студенты (в том числе те, у кого списали) не могут получить за него больше 0 баллов (подробнее о плагиате см. на странице курса). Если вы нашли решение какого-то из заданий (или его часть) в открытом источнике, необходимо указать ссылку на этот источник в отдельном блоке в конце вашей работы (скорее всего вы будете не единственным, кто это нашел, поэтому чтобы исключить подозрение в плагиате, необходима ссылка на источник).\n",
        "\n",
        "Неэффективная реализация кода может негативно отразиться на оценке.\n",
        "\n",
        "## Формат сдачи\n",
        "Задания сдаются через систему anytask. Посылка должна содержать:\n",
        "* Ноутбук homework-practice-06-Username.ipynb\n",
        "\n",
        "Username — ваша фамилия на латинице"
      ]
    },
    {
      "cell_type": "markdown",
      "metadata": {
        "pycharm": {
          "name": "#%% md\n"
        },
        "id": "yBiZt5wsPedW"
      },
      "source": [
        "## О задании\n",
        "\n",
        "В этом задании вам предстоит вручную запрограммировать один из самых мощных алгоритмов машинного обучения — бустинг."
      ]
    },
    {
      "cell_type": "code",
      "execution_count": null,
      "metadata": {
        "pycharm": {
          "name": "#%%\n"
        },
        "id": "1EwOK8RJPedX"
      },
      "outputs": [],
      "source": [
        "from warnings import filterwarnings\n",
        "\n",
        "import matplotlib.pyplot as plt\n",
        "import numpy as np\n",
        "import seaborn as sns\n",
        "from scipy.sparse import load_npz\n",
        "from sklearn.model_selection import train_test_split\n",
        "\n",
        "\n",
        "sns.set(style='darkgrid')\n",
        "filterwarnings('ignore')"
      ]
    },
    {
      "cell_type": "code",
      "execution_count": null,
      "metadata": {
        "pycharm": {
          "name": "#%%\n"
        },
        "id": "MeBOjhHJPedY"
      },
      "outputs": [],
      "source": [
        "x = load_npz('x.npz')\n",
        "y = np.load('y.npy')"
      ]
    },
    {
      "cell_type": "markdown",
      "metadata": {
        "pycharm": {
          "name": "#%% md\n"
        },
        "id": "aL9Y46XoPedY"
      },
      "source": [
        "Разделим на обучающую, валидационную и тестовую выборки (`random_state` оставьте равным 1337 для воспроизводимости)."
      ]
    },
    {
      "cell_type": "code",
      "execution_count": null,
      "metadata": {
        "pycharm": {
          "name": "#%%\n"
        },
        "colab": {
          "base_uri": "https://localhost:8080/"
        },
        "id": "K9Rth0wuPedY",
        "outputId": "0baa53c1-3698-4614-f883-2f68b5de0153"
      },
      "outputs": [
        {
          "output_type": "execute_result",
          "data": {
            "text/plain": [
              "((18825, 169), (2354, 169), (2353, 169))"
            ]
          },
          "metadata": {},
          "execution_count": 3
        }
      ],
      "source": [
        "x_train, x_test, y_train, y_test = train_test_split(x, y, test_size=0.2, random_state=1337)\n",
        "\n",
        "x_test, x_valid, y_test, y_valid = train_test_split(x_test, y_test, test_size=0.5, random_state=1337)\n",
        "\n",
        "x_train.shape, x_valid.shape, x_test.shape"
      ]
    },
    {
      "cell_type": "markdown",
      "metadata": {
        "pycharm": {
          "name": "#%% md\n"
        },
        "id": "y2wt3RKCPedZ"
      },
      "source": [
        "## Задание 1. Реализация градиентного бустингового (4 балла)\n",
        "\n",
        "Вам нужно дописать код в файлике `boosting.py`. Для вас уже подготовлен шаблон класса `Boosting`, вы можете менять его по своему усмотрению.\n",
        "\n",
        "### Инструкции для функций:\n",
        "\n",
        "#### `__init__`\n",
        "\n",
        "В `__init__` приходит кучка параметров, распишем что есть что:\n",
        "\n",
        " - `base_model_class` - класс базовой модели нашего бустинга\n",
        " - `base_model_params` - словарь с гиперпараметрами для базовой модели\n",
        " - `n_estimators` - какое количество базовых моделей нужно обучить\n",
        " - `learning_rate` - темп обучения, должен быть из полуинтервала $(0, 1]$\n",
        " - `subsample` - доля объектов, на которой будет обучаться базовая модель (какую часть составляет бутстрапная выборка от исходной обучающей)\n",
        " - `early_stopping_rounds` - число итераций, после которых при отсутствии улучшения качества на валидационной выборке обучение останавливается\n",
        " - `plot` - строить ли после обучения всех базовых моделей график с качеством\n",
        "\n",
        "#### `fit`\n",
        "\n",
        "В `fit` приходит две выборки, обучающая и валидационная. На обучающей мы обучаем новые базовые модели, на валидационной считаем качество для ранней остановки (если это предусматривают параметры).\n",
        "\n",
        "Сначала нам нужно сделать какую-то нулевую модель, сделать предсказания для обучающей и валидационной выборок (в шаблоне это нулевая модель, соответственно предсказания это просто `np.zeros`). После этого нужно обучить `n_estimators` базовых моделей (как и на что обучаются базовые модели смотрите в лекциях и семинарах). После каждой обученной базовой модели мы должны обновить текущие предсказания, посчитать ошибку на обучающей и валидационной выборках (используем `loss_fn` для этого), проверить на раннюю остановку.\n",
        "\n",
        "После всего цикла обучения надо нарисовать график (если `plot`).\n",
        "\n",
        "\n",
        "#### `fit_new_base_model`\n",
        "\n",
        "В `fit_new_base_model` приходит обучающая выборка (целиком) и текущие предсказания для неё. Мы должны сгенерировать бутстрап выборку для обучения базовой модели и обучить базовую модель. После обучения модели запускаем поиск оптимальной гаммы, добавляем новую модель и гамму (не забываем про темп обучения) в соответствующие списки.\n",
        "\n",
        "#### `predict_proba`\n",
        "\n",
        "В `predict_proba` приходит выборка, нужно предсказать вероятности для неё. Суммируем предсказания базовых моделей на этой выборке (не забываем про гаммы) и накидываем сигмоиду."
      ]
    },
    {
      "cell_type": "code",
      "execution_count": null,
      "metadata": {
        "pycharm": {
          "name": "#%%\n"
        },
        "id": "6mA03ml2PedZ"
      },
      "outputs": [],
      "source": [
        "%load_ext autoreload"
      ]
    },
    {
      "cell_type": "code",
      "execution_count": null,
      "metadata": {
        "pycharm": {
          "name": "#%%\n"
        },
        "id": "hWJM47BRPedZ"
      },
      "outputs": [],
      "source": [
        "%autoreload 2\n",
        "\n",
        "from boosting import Boosting"
      ]
    },
    {
      "cell_type": "markdown",
      "metadata": {
        "pycharm": {
          "name": "#%% md\n"
        },
        "id": "GvyrZJKMPedZ"
      },
      "source": [
        "### Проверка кода\n",
        "\n",
        "У автора задания всё учится около одной секунды."
      ]
    },
    {
      "cell_type": "code",
      "source": [
        "boosting.predict_proba(x_test)"
      ],
      "metadata": {
        "colab": {
          "base_uri": "https://localhost:8080/"
        },
        "id": "QjzAMtcjcOu_",
        "outputId": "e8e02267-eb04-41f9-9be0-a86097841c29"
      },
      "execution_count": null,
      "outputs": [
        {
          "output_type": "execute_result",
          "data": {
            "text/plain": [
              "array([[0.5       , 0.61886258],\n",
              "       [0.5       , 0.38390658],\n",
              "       [0.5       , 0.57239573],\n",
              "       ...,\n",
              "       [0.5       , 0.61715722],\n",
              "       [0.5       , 0.61800886],\n",
              "       [0.5       , 0.4052677 ]])"
            ]
          },
          "metadata": {},
          "execution_count": 46
        }
      ]
    },
    {
      "cell_type": "code",
      "execution_count": null,
      "metadata": {
        "pycharm": {
          "name": "#%%\n"
        },
        "colab": {
          "base_uri": "https://localhost:8080/"
        },
        "id": "Cre6rpkUPeda",
        "outputId": "4ca2326d-c80e-4994-dc87-973008dda9f0"
      },
      "outputs": [
        {
          "output_type": "stream",
          "name": "stdout",
          "text": [
            "CPU times: user 2.38 s, sys: 5.77 ms, total: 2.38 s\n",
            "Wall time: 2.45 s\n",
            "Train ROC-AUC 0.9886\n",
            "Valid ROC-AUC 0.9247\n",
            "Test ROC-AUC 0.9178\n"
          ]
        }
      ],
      "source": [
        "boosting = Boosting()\n",
        "\n",
        "%time boosting.fit(x_train, y_train, x_valid, y_valid)\n",
        "\n",
        "assert len(boosting.models) == boosting.n_estimators\n",
        "assert len(boosting.gammas) == boosting.n_estimators\n",
        "\n",
        "assert boosting.predict_proba(x_test).shape == (x_test.shape[0], 2)\n",
        "\n",
        "print(f'Train ROC-AUC {boosting.score(x_train, y_train):.4f}')\n",
        "print(f'Valid ROC-AUC {boosting.score(x_valid, y_valid):.4f}')\n",
        "print(f'Test ROC-AUC {boosting.score(x_test, y_test):.4f}')"
      ]
    },
    {
      "cell_type": "markdown",
      "metadata": {
        "pycharm": {
          "name": "#%% md\n"
        },
        "id": "ogCYUTdSPedb"
      },
      "source": [
        "## Задание 2. Обучение градиентного бустингового (1 балл)\n",
        "\n",
        "Оцените качество на тестовой выборке вашей имплементации бустинга для различной максимальной глубины решающего дерева в качестве базовой модели. Здесь и далее мы будем использовать метрику ROC-AUC.\n",
        "\n",
        "Перебирайте максимальную глубину от 1 до 30 с шагом 2 (остальные параметры бустинга стоит оставить равными по умолчанию). Постройте график зависимости качества на обучающей и тестовой выборке в зависимости от глубины."
      ]
    },
    {
      "cell_type": "code",
      "execution_count": null,
      "metadata": {
        "pycharm": {
          "name": "#%%\n"
        },
        "id": "Vq6983b1Pedb"
      },
      "outputs": [],
      "source": [
        "results = {}\n",
        "\n",
        "depths = range(1, 30, 2)\n",
        "\n",
        "# YOUR CODE:\n",
        "for depth in depths:\n",
        "  model = Boosting(base_model_params={'max_depth' : depth})\n",
        "  model.fit(x_train, y_train, x_test, y_test)\n",
        "\n",
        "  train_roc = model.score(x_train, y_train)\n",
        "  test_roc = model.score(x_test, y_test)\n",
        "\n",
        "  results[depth] = {'train_roc' : train_roc, 'test_roc' : test_roc}"
      ]
    },
    {
      "cell_type": "code",
      "source": [
        "plt.plot(depths, [results[depth]['train_roc'] for depth in depths], label = 'Train ROC-AUC')\n",
        "plt.plot(depths, [results[depth]['test_roc'] for depth in depths], label = 'Test ROC-AUC')\n",
        "plt.legend()\n",
        "plt.xlabel('Depth')\n",
        "plt.ylabel('ROC-AUC');"
      ],
      "metadata": {
        "colab": {
          "base_uri": "https://localhost:8080/",
          "height": 458
        },
        "id": "eZ6jR6q_--jQ",
        "outputId": "e530b838-4bae-4259-d5cf-2d10cf3a4d5c"
      },
      "execution_count": null,
      "outputs": [
        {
          "output_type": "display_data",
          "data": {
            "text/plain": [
              "<Figure size 640x480 with 1 Axes>"
            ],
            "image/png": "[encoded data removed]"
          },
          "metadata": {}
        }
      ]
    },
    {
      "cell_type": "markdown",
      "metadata": {
        "pycharm": {
          "name": "#%% md\n"
        },
        "id": "nYib7y_XPedb"
      },
      "source": [
        "**Какая из моделей имеет лучшее качество? Как вы можете это объяснить?**\n",
        "\n",
        "Лучшее качество у модели с глубиной 7. У неё очень хороший ROC-AUC на трейне и лучший на тесте. Дальнейшее увеличение глубины приводит к переобучению, наверное, поэтому качество на тесте падает, а на трейне растёт."
      ]
    },
    {
      "cell_type": "markdown",
      "metadata": {
        "pycharm": {
          "name": "#%% md\n"
        },
        "id": "wXJjBIeKPedb"
      },
      "source": [
        "## Задание 3. Подбираем гиперпараметры и ищем лучшую модель (3 балла)\n",
        "\n",
        "Подберите по валидационной выборке основные гиперпараметры для вашей модели бустинга. Следует подобрать все основные параметры для самого градиентного бустинга и для самих базовых моделей. Существуют библиотеки для подбора гиперпараметров, попробуйте использовать какую-нибудь из следующих двух - [Hyperopt](https://github.com/hyperopt/hyperopt), [Optuna](https://optuna.org/)."
      ]
    },
    {
      "cell_type": "code",
      "execution_count": null,
      "metadata": {
        "pycharm": {
          "is_executing": true,
          "name": "#%%\n"
        },
        "id": "UMXrKrJMPedc"
      },
      "outputs": [],
      "source": [
        "# YOUR CODE:\n",
        "import optuna\n",
        "\n",
        "def objective(trial):\n",
        "  params = {\n",
        "      'n_estimators': trial.suggest_int('n_estimators',10, 100),\n",
        "      'learning_rate': trial.suggest_float('learning_rate', 0.01, 0.3),\n",
        "      'subsample': trial.suggest_float('subsample', 0.1, 1),\n",
        "      'base_model_params': {\n",
        "        'max_depth': trial.suggest_int('max_depth', 1, 20),\n",
        "        'min_samples_leaf': trial.suggest_int('min_samples_leaf', 1, 5),\n",
        "        'min_samples_split': trial.suggest_int('min_samples_split', 2, 10),\n",
        "      }\n",
        "  }\n",
        "  model = Boosting(**params)\n",
        "  model.fit(x_train, y_train, x_test, y_test)\n",
        "\n",
        "  roc_auc = model.score(x_test, y_test)\n",
        "\n",
        "  return roc_auc"
      ]
    },
    {
      "cell_type": "code",
      "source": [
        "study = optuna.create_study(direction = 'maximize')\n",
        "study.optimize(objective, n_trials = 15)"
      ],
      "metadata": {
        "colab": {
          "base_uri": "https://localhost:8080/"
        },
        "id": "ho1imDtWJuWk",
        "outputId": "d91db2e5-98bf-4f07-e69c-73a6aca1a1ee"
      },
      "execution_count": null,
      "outputs": [
        {
          "output_type": "stream",
          "name": "stderr",
          "text": [
            "[I 2023-12-23 00:54:05,468] A new study created in memory with name: no-name-aef1e54c-be8b-4abc-b4ba-f1856b25d40d\n",
            "[I 2023-12-23 00:54:17,642] Trial 0 finished with value: 0.9368649852075898 and parameters: {'n_estimators': 100, 'learning_rate': 0.20943022588361926, 'subsample': 0.4251869333944297, 'max_depth': 13, 'min_samples_leaf': 2, 'min_samples_split': 4}. Best is trial 0 with value: 0.9368649852075898.\n",
            "[I 2023-12-23 00:54:23,757] Trial 1 finished with value: 0.9377833112641173 and parameters: {'n_estimators': 69, 'learning_rate': 0.13848767957912056, 'subsample': 0.18353091868244348, 'max_depth': 14, 'min_samples_leaf': 1, 'min_samples_split': 2}. Best is trial 1 with value: 0.9377833112641173.\n",
            "[I 2023-12-23 00:54:33,917] Trial 2 finished with value: 0.9375924033612386 and parameters: {'n_estimators': 92, 'learning_rate': 0.2886687084249652, 'subsample': 0.5693470573913167, 'max_depth': 11, 'min_samples_leaf': 5, 'min_samples_split': 2}. Best is trial 1 with value: 0.9377833112641173.\n",
            "[I 2023-12-23 00:54:48,511] Trial 3 finished with value: 0.935307412894825 and parameters: {'n_estimators': 87, 'learning_rate': 0.20198664504006542, 'subsample': 0.4832172872098649, 'max_depth': 18, 'min_samples_leaf': 2, 'min_samples_split': 8}. Best is trial 1 with value: 0.9377833112641173.\n",
            "[I 2023-12-23 00:55:10,217] Trial 4 finished with value: 0.9305543965499596 and parameters: {'n_estimators': 75, 'learning_rate': 0.20384579727669128, 'subsample': 0.8870287701316227, 'max_depth': 16, 'min_samples_leaf': 4, 'min_samples_split': 7}. Best is trial 1 with value: 0.9377833112641173.\n",
            "[I 2023-12-23 00:55:18,556] Trial 5 finished with value: 0.9369283587588547 and parameters: {'n_estimators': 99, 'learning_rate': 0.05693371714054306, 'subsample': 0.2350519616638869, 'max_depth': 18, 'min_samples_leaf': 3, 'min_samples_split': 8}. Best is trial 1 with value: 0.9377833112641173.\n",
            "[I 2023-12-23 00:55:30,935] Trial 6 finished with value: 0.9382021277768244 and parameters: {'n_estimators': 77, 'learning_rate': 0.14438314676692635, 'subsample': 0.837225710488178, 'max_depth': 10, 'min_samples_leaf': 4, 'min_samples_split': 6}. Best is trial 6 with value: 0.9382021277768244.\n",
            "[I 2023-12-23 00:55:36,554] Trial 7 finished with value: 0.9376353084363186 and parameters: {'n_estimators': 46, 'learning_rate': 0.20991777397849273, 'subsample': 0.85729313657613, 'max_depth': 7, 'min_samples_leaf': 2, 'min_samples_split': 10}. Best is trial 6 with value: 0.9382021277768244.\n",
            "[I 2023-12-23 00:55:42,790] Trial 8 finished with value: 0.9383426517383247 and parameters: {'n_estimators': 51, 'learning_rate': 0.09674636094362718, 'subsample': 0.5962995577709704, 'max_depth': 11, 'min_samples_leaf': 2, 'min_samples_split': 10}. Best is trial 8 with value: 0.9383426517383247.\n",
            "[I 2023-12-23 00:55:50,291] Trial 9 finished with value: 0.9373546541378599 and parameters: {'n_estimators': 74, 'learning_rate': 0.12334547066011188, 'subsample': 0.33393065428999785, 'max_depth': 14, 'min_samples_leaf': 4, 'min_samples_split': 6}. Best is trial 8 with value: 0.9383426517383247.\n",
            "[I 2023-12-23 00:55:51,204] Trial 10 finished with value: 0.8234877338720216 and parameters: {'n_estimators': 18, 'learning_rate': 0.010292427205894475, 'subsample': 0.681333791994049, 'max_depth': 1, 'min_samples_leaf': 1, 'min_samples_split': 10}. Best is trial 8 with value: 0.9383426517383247.\n",
            "[I 2023-12-23 00:55:55,750] Trial 11 finished with value: 0.9360135753232051 and parameters: {'n_estimators': 46, 'learning_rate': 0.09824847433196646, 'subsample': 0.739487345558403, 'max_depth': 7, 'min_samples_leaf': 4, 'min_samples_split': 5}. Best is trial 8 with value: 0.9383426517383247.\n",
            "[I 2023-12-23 00:56:04,466] Trial 12 finished with value: 0.9361190667004659 and parameters: {'n_estimators': 58, 'learning_rate': 0.07655702910075073, 'subsample': 0.9969737703319678, 'max_depth': 7, 'min_samples_leaf': 3, 'min_samples_split': 4}. Best is trial 8 with value: 0.9383426517383247.\n",
            "[I 2023-12-23 00:56:07,838] Trial 13 finished with value: 0.935964765879995 and parameters: {'n_estimators': 28, 'learning_rate': 0.16150662646924197, 'subsample': 0.6388187900768749, 'max_depth': 10, 'min_samples_leaf': 5, 'min_samples_split': 8}. Best is trial 8 with value: 0.9383426517383247.\n",
            "[I 2023-12-23 00:56:12,568] Trial 14 finished with value: 0.9202311993109995 and parameters: {'n_estimators': 62, 'learning_rate': 0.03548222028949031, 'subsample': 0.7794418116277062, 'max_depth': 3, 'min_samples_leaf': 3, 'min_samples_split': 6}. Best is trial 8 with value: 0.9383426517383247.\n"
          ]
        }
      ]
    },
    {
      "cell_type": "code",
      "source": [
        "best_trial = study.best_trial\n",
        "print(\"Best trial's AUC-ROC:\", best_trial.value)\n",
        "print(\"Best trial's params:\", best_trial.params)"
      ],
      "metadata": {
        "colab": {
          "base_uri": "https://localhost:8080/"
        },
        "id": "XukXouIxKBU1",
        "outputId": "741ee61a-f6b9-4e66-a75d-5b5c363c4998"
      },
      "execution_count": null,
      "outputs": [
        {
          "output_type": "stream",
          "name": "stdout",
          "text": [
            "Best trial's AUC-ROC: 0.9383426517383247\n",
            "Best trial's params: {'n_estimators': 51, 'learning_rate': 0.09674636094362718, 'subsample': 0.5962995577709704, 'max_depth': 11, 'min_samples_leaf': 2, 'min_samples_split': 10}\n"
          ]
        }
      ]
    },
    {
      "cell_type": "markdown",
      "metadata": {
        "pycharm": {
          "name": "#%% md\n"
        },
        "id": "PhhOeugxPedc"
      },
      "source": [
        "## Задание 4. Интерпретация бустингового (2 балл)\n",
        "\n",
        "Постройте калибровочную кривую для вашей лучшей модели бустинга. Насколько хорошо бустинг оценивает вероятности? Постройте также калибровочную кривую для логистической регрессии, сравните их между собой. Проанализируйте полученные результаты."
      ]
    },
    {
      "cell_type": "code",
      "source": [
        "study.best_params"
      ],
      "metadata": {
        "colab": {
          "base_uri": "https://localhost:8080/"
        },
        "id": "Od3UoqrIMjI_",
        "outputId": "0fb69e48-be79-4a58-8a0a-716d5ab66b2a"
      },
      "execution_count": null,
      "outputs": [
        {
          "output_type": "execute_result",
          "data": {
            "text/plain": [
              "{'n_estimators': 51,\n",
              " 'learning_rate': 0.09674636094362718,\n",
              " 'subsample': 0.5962995577709704,\n",
              " 'max_depth': 11,\n",
              " 'min_samples_leaf': 2,\n",
              " 'min_samples_split': 10}"
            ]
          },
          "metadata": {},
          "execution_count": 57
        }
      ]
    },
    {
      "cell_type": "markdown",
      "source": [
        "Я здесь вручную вбил не потому, что я туплю, а там. ошибку выдавало просто)"
      ],
      "metadata": {
        "id": "LdQBHmb_NQuE"
      }
    },
    {
      "cell_type": "code",
      "execution_count": null,
      "metadata": {
        "pycharm": {
          "name": "#%%\n"
        },
        "id": "34SvMXKZPedc"
      },
      "outputs": [],
      "source": [
        "# YOUR CODE:\n",
        "from sklearn.linear_model import LogisticRegression\n",
        "best_model = Boosting(n_estimators = 51, learning_rate = 0.09674636094362718, subsample = 0.5962995577709704,\\\n",
        "                      base_model_params = {'max_depth': 11, 'min_samples_leaf': 2, 'min_samples_split': 10})\n",
        "best_model.fit(x_train, y_train, x_test, y_test)\n",
        "\n",
        "best_model_probs = best_model.predict_proba(x_test)[:, 1]\n",
        "\n",
        "lr = LogisticRegression()\n",
        "lr.fit(x_train, y_train)\n",
        "\n",
        "lr_probs = lr.predict_proba(x_test)[:, 1]"
      ]
    },
    {
      "cell_type": "code",
      "source": [
        "from sklearn.calibration import calibration_curve\n",
        "fop_boost, mpv_boost = calibration_curve(y_test, best_model_probs, n_bins = 15)\n",
        "fop_lr, mpv_lr = calibration_curve(y_test, lr_probs, n_bins = 15)\n",
        "\n",
        "plt.plot(fop_boost, mpv_boost, label = 'Boosting')\n",
        "plt.plot(fop_lr, mpv_lr, label = 'Logistic Regression')\n",
        "plt.plot([0, 1], [0, 1], linestyle='--', label='Perfectly Calibrated')\n",
        "plt.legend();"
      ],
      "metadata": {
        "colab": {
          "base_uri": "https://localhost:8080/",
          "height": 434
        },
        "id": "a2cYU_-cNDnO",
        "outputId": "9ad9dfa4-e755-4b4a-ed5d-1417ebccaf1c"
      },
      "execution_count": null,
      "outputs": [
        {
          "output_type": "display_data",
          "data": {
            "text/plain": [
              "<Figure size 640x480 with 1 Axes>"
            ],
            "image/png": "[encoded data removed]"
          },
          "metadata": {}
        }
      ]
    },
    {
      "cell_type": "markdown",
      "source": [
        "*Бустинг достаточно хорошо классифицирует данные, однако в верхнем квадрате всё же недостаточно прогнозируется.*\n",
        "\n",
        "*Качество прогнозов примерно одинаковое у логрега и бустинга, но, наверное, всё же логрег побольше обвивает диагональ*\n",
        "\n",
        "*А так вообще все молодцы, все хорошие*"
      ],
      "metadata": {
        "id": "EZbDn9icOlTv"
      }
    },
    {
      "cell_type": "markdown",
      "metadata": {
        "pycharm": {
          "name": "#%% md\n"
        },
        "id": "2zJOHQ9QPedc"
      },
      "source": [
        "Теперь попробуем оценить важность признаков для бустинга.\n",
        "\n",
        "Поскольку наша базовая модель - это дерево из `sklearn`, мы можем вычислить важность признака отдельно для каждого дерева и усреднить (воспользуйтесь `feature_importances_` у `DecisionTreeRegressor`), после этого нормировать значения, чтобы они суммировались в единицу (обратите внимание, что они должны быть неотрицательными - иначе вы что-то сделали не так).\n",
        "\n",
        "Допишите в вашей реализации бустинга функцию `feature_importances_` чтобы она возвращала описанные выше важности признаков.\n",
        "\n",
        "Нарисуйте столбчатую диаграмму важности признаков. На соседнем графике нарисуйте важность признаков для логистической регрессии, для этого используйте модули весов. Сравните графики. Проанализируйте полученные результаты."
      ]
    },
    {
      "cell_type": "code",
      "execution_count": null,
      "metadata": {
        "pycharm": {
          "name": "#%%\n"
        },
        "id": "d8S6z_6_Pedc",
        "colab": {
          "base_uri": "https://localhost:8080/",
          "height": 601
        },
        "outputId": "5cb96182-5053-4d65-d734-60dc44dc744d"
      },
      "outputs": [
        {
          "output_type": "display_data",
          "data": {
            "text/plain": [
              "<Figure size 800x600 with 2 Axes>"
            ],
            "image/png": "[encoded data removed]"
          },
          "metadata": {}
        }
      ],
      "source": [
        "# YOUR CODE:\n",
        "boost_imp = best_model.feature_importances_(x_train)\n",
        "lr_imp = np.abs(lr.coef_[0])\n",
        "\n",
        "plt.figure(figsize = (8, 6))\n",
        "plt.subplot(1, 2, 1)\n",
        "plt.bar(range(len(boost_imp)), boost_imp, width=2)\n",
        "plt.title('Feature Importances (Boosting)')\n",
        "\n",
        "plt.subplot(1, 2, 2)\n",
        "plt.bar(range(len(lr_imp)), lr_imp, width=2)\n",
        "plt.title('Feature Importances (Logistic Regression)')\n",
        "plt.tight_layout();"
      ]
    },
    {
      "cell_type": "markdown",
      "source": [
        "У логистической регрессии большинство признаков более важное, чем у бустинга"
      ],
      "metadata": {
        "id": "rYlCl_Q-VvCH"
      }
    },
    {
      "cell_type": "markdown",
      "metadata": {
        "pycharm": {
          "name": "#%% md\n"
        },
        "id": "V5gkwYoyPedd"
      },
      "source": [
        "Кстати, чаще всего излишние признаки могут вредить качеству бустинга. Попробуйте отфильтровать на основании диаграммы хвост наименее важных признаков и снова обучить модель (с теми же гиперпараметрами). Стало ли лучше?"
      ]
    },
    {
      "cell_type": "code",
      "execution_count": null,
      "metadata": {
        "pycharm": {
          "name": "#%%\n"
        },
        "id": "NhTZr9CaPedd"
      },
      "outputs": [],
      "source": [
        "# YOUR CODE:\n",
        "np.random.seed(20)\n",
        "selected_feature_indices = np.where(boost_imp >= 0.0007)[0]\n",
        "x_train_new = x_train[:, selected_feature_indices]\n",
        "x_test_new = x_test[:, selected_feature_indices]\n",
        "\n",
        "new_model = Boosting(n_estimators = 51, learning_rate = 0.09674636094362718, subsample = 0.5962995577709704,\\\n",
        "                      base_model_params = {'max_depth': 11, 'min_samples_leaf': 2, 'min_samples_split': 10})\n",
        "\n",
        "new_model.fit(x_train_new, y_train, x_test_new, y_test)"
      ]
    },
    {
      "cell_type": "code",
      "source": [
        "new_model.score(x_test_new, y_test)"
      ],
      "metadata": {
        "colab": {
          "base_uri": "https://localhost:8080/"
        },
        "id": "cFkt14bwW72t",
        "outputId": "a09de7ab-9406-4c77-cb09-4bc0ea1717f2"
      },
      "execution_count": null,
      "outputs": [
        {
          "output_type": "execute_result",
          "data": {
            "text/plain": [
              "0.9368291653742661"
            ]
          },
          "metadata": {},
          "execution_count": 148
        }
      ]
    },
    {
      "cell_type": "markdown",
      "source": [
        "0.9383426517383247 - лучшее"
      ],
      "metadata": {
        "id": "_kRTFU6VXTso"
      }
    },
    {
      "cell_type": "markdown",
      "source": [
        "Ну вроде стало похуже чуть-чуть совсем, но не значительно, у нас вообще странное распределение какое-то получилось, не знаю, тайна."
      ],
      "metadata": {
        "id": "dKaGx2b0Y38u"
      }
    },
    {
      "cell_type": "markdown",
      "metadata": {
        "collapsed": false,
        "pycharm": {
          "name": "#%% md\n"
        },
        "id": "Eepn3bNPPedd"
      },
      "source": [
        "## Задание 6 (бонус). Катбустовое (1 балл)\n",
        "\n",
        "Запустите [CatBoost](https://catboost.ai/en/docs/concepts/python-quickstart) на наших данных, сравните с вашей реализацией. Где получилось лучше?"
      ]
    },
    {
      "cell_type": "code",
      "execution_count": null,
      "metadata": {
        "pycharm": {
          "name": "#%%\n"
        },
        "id": "W2mZMFWnPedd",
        "colab": {
          "base_uri": "https://localhost:8080/"
        },
        "outputId": "3a3ea0a4-9431-4c27-cc07-328206ef4d1b"
      },
      "outputs": [
        {
          "output_type": "stream",
          "name": "stdout",
          "text": [
            "0:\tlearn: 0.3802937\ttotal: 7.37ms\tremaining: 7.37ms\n",
            "1:\tlearn: 0.3460453\ttotal: 15.2ms\tremaining: 0us\n",
            "CatBoost ROC-AUC 0.8939366862796655\n"
          ]
        }
      ],
      "source": [
        "# YOUR CODE:\n",
        "from sklearn.metrics import roc_auc_score\n",
        "from catboost import CatBoostClassifier, Pool\n",
        "\n",
        "# initialize data\n",
        "\n",
        "model = CatBoostClassifier(iterations=2,\n",
        "                           depth=2,\n",
        "                           learning_rate=1,\n",
        "                           loss_function='Logloss',\n",
        "                           verbose=True)\n",
        "# train the model\n",
        "model.fit(x_train, y_train)\n",
        "# make the prediction using the resulting model\n",
        "preds_class = model.predict(x_test)\n",
        "preds_proba = model.predict_proba(x_test)\n",
        "print(\"CatBoost ROC-AUC\", roc_auc_score(y_test, preds_proba[:, 1]))"
      ]
    },
    {
      "cell_type": "markdown",
      "source": [
        "Мы круче!!! Вот и делайте выводы! МООООООП (Я не моп)"
      ],
      "metadata": {
        "id": "HqtbIIUtaji2"
      }
    }
  ],
  "metadata": {
    "kernelspec": {
      "display_name": "Python 3 (ipykernel)",
      "language": "python",
      "name": "python3"
    },
    "language_info": {
      "codemirror_mode": {
        "name": "ipython",
        "version": 3
      },
      "file_extension": ".py",
      "mimetype": "text/x-python",
      "name": "python",
      "nbconvert_exporter": "python",
      "pygments_lexer": "ipython3",
      "version": "3.9.7"
    },
    "nbTranslate": {
      "displayLangs": [
        "*"
      ],
      "hotkey": "alt-t",
      "langInMainMenu": true,
      "sourceLang": "en",
      "targetLang": "fr",
      "useGoogleTranslate": true
    },
    "toc": {
      "base_numbering": 1,
      "nav_menu": {
        "height": "210px",
        "width": "492px"
      },
      "number_sections": false,
      "sideBar": true,
      "skip_h1_title": false,
      "title_cell": "Table of Contents",
      "title_sidebar": "Contents",
      "toc_cell": false,
      "toc_position": {},
      "toc_section_display": true,
      "toc_window_display": true
    },
    "varInspector": {
      "cols": {
        "lenName": 16,
        "lenType": 16,
        "lenVar": 40
      },
      "kernels_config": {
        "python": {
          "delete_cmd_postfix": "",
          "delete_cmd_prefix": "del ",
          "library": "var_list.py",
          "varRefreshCmd": "print(var_dic_list())"
        },
        "r": {
          "delete_cmd_postfix": ") ",
          "delete_cmd_prefix": "rm(",
          "library": "var_list.r",
          "varRefreshCmd": "cat(var_dic_list()) "
        }
      },
      "types_to_exclude": [
        "module",
        "function",
        "builtin_function_or_method",
        "instance",
        "_Feature"
      ],
      "window_display": false
    },
    "colab": {
      "provenance": []
    }
  },
  "nbformat": 4,
  "nbformat_minor": 0
}